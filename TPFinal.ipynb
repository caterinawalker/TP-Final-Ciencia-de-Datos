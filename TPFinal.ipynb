{
 "cells": [
  {
   "cell_type": "code",
   "execution_count": 5,
   "id": "d489a3c5-eb50-4725-8c55-b504241d8486",
   "metadata": {},
   "outputs": [
    {
     "name": "stdout",
     "output_type": "stream",
     "text": [
      "Dimensiones (filas, columnas): (642006, 206)\n",
      "           ï»¿ID1  jurisdiccion  seccion  idalumno  sector  ambito ap01 ap02  \\\n",
      "0  20004002000400            50        1    247287       1       2    2    1   \n",
      "1  20004002000400            50        2    247266       1       2    3    9   \n",
      "2  20004002000400            50        1    247288       1       2    3    9   \n",
      "3  20004002000400            50        1    247289       1       2    2    1   \n",
      "4  20004002000400            50        1    247290       1       2    2   12   \n",
      "\n",
      "  ap03 ap04  ...   mpuntaje  NSE_puntaje NSE_nivel edadA_junio2023 migracion  \\\n",
      "0    1    1  ...  466,75851  ,0057786424         2               2         2   \n",
      "1    1    1  ...  455,46713   -,36903167         2               2         2   \n",
      "2    1    1  ...  356,53931   -,50107211         2               2         2   \n",
      "3    1    1  ...  449,15985    ,59687847         2               2         2   \n",
      "4    1    1  ...  444,71057    ,92589754         2               2         2   \n",
      "\n",
      "  sobreedad Nivel_Ed_Madre Nivel_Ed_Padre region clima_escolar  \n",
      "0         1              4              1   CUYO             2  \n",
      "1         1              3              3   CUYO             2  \n",
      "2         1              7              7   CUYO             2  \n",
      "3         1              7              5   CUYO             2  \n",
      "4         1              7              7   CUYO             2  \n",
      "\n",
      "[5 rows x 206 columns]\n",
      "\n",
      "Información de las columnas:\n",
      "<class 'pandas.core.frame.DataFrame'>\n",
      "RangeIndex: 642006 entries, 0 to 642005\n",
      "Columns: 206 entries, ï»¿ID1 to clima_escolar\n",
      "dtypes: int64(20), object(186)\n",
      "memory usage: 1009.0+ MB\n",
      "None\n",
      "\n",
      "Resumen estadístico (solo numéricas):\n",
      "             ï»¿ID1   jurisdiccion        seccion       idalumno  \\\n",
      "count  6.420060e+05  642006.000000  642006.000000  642006.000000   \n",
      "mean   4.090495e+14      30.893792       1.920222  438084.182491   \n",
      "std    2.399658e+14      30.207920       1.099421  246202.224846   \n",
      "min    2.000400e+13       2.000000       1.000000       1.000000   \n",
      "25%    2.021003e+14       6.000000       1.000000  231213.250000   \n",
      "50%    3.549200e+14      14.000000       2.000000  439136.500000   \n",
      "75%    5.782501e+14      54.000000       2.000000  650291.750000   \n",
      "max    9.997263e+14      94.000000      12.000000  864058.000000   \n",
      "\n",
      "              sector         ambito         ap20a1         ap20a2  \\\n",
      "count  642006.000000  642006.000000  642006.000000  642006.000000   \n",
      "mean        1.272113       1.899330       2.659759       2.546836   \n",
      "std         0.445048       0.300892       2.597600       2.579633   \n",
      "min         1.000000       1.000000      -9.000000      -9.000000   \n",
      "25%         1.000000       2.000000       3.000000       3.000000   \n",
      "50%         1.000000       2.000000       3.000000       3.000000   \n",
      "75%         2.000000       2.000000       4.000000       4.000000   \n",
      "max         2.000000       2.000000       4.000000       4.000000   \n",
      "\n",
      "              ap20b1         ap20b2         ap20c1         ap20c2  \\\n",
      "count  642006.000000  642006.000000  642006.000000  642006.000000   \n",
      "mean        0.766811       0.744454      -5.757873      -6.314109   \n",
      "std         2.396246       2.556447       5.309466       4.973513   \n",
      "min        -9.000000      -9.000000      -9.000000      -9.000000   \n",
      "25%         1.000000       1.000000      -9.000000      -9.000000   \n",
      "50%         1.000000       1.000000      -9.000000      -9.000000   \n",
      "75%         2.000000       2.000000       2.000000      -9.000000   \n",
      "max         2.000000       2.000000       4.000000       4.000000   \n",
      "\n",
      "              ap20d1         ap20d2      NSE_nivel  edadA_junio2023  \\\n",
      "count  642006.000000  642006.000000  642006.000000    642006.000000   \n",
      "mean       -6.393119      -6.829966       2.010131         1.608904   \n",
      "std         4.499965       4.230820       0.517035         2.314343   \n",
      "min        -9.000000      -9.000000       1.000000        -9.000000   \n",
      "25%        -9.000000      -9.000000       2.000000         2.000000   \n",
      "50%        -9.000000      -9.000000       2.000000         2.000000   \n",
      "75%         1.000000      -9.000000       2.000000         2.000000   \n",
      "max         2.000000       2.000000       3.000000         5.000000   \n",
      "\n",
      "           migracion      sobreedad  Nivel_Ed_Madre  Nivel_Ed_Padre  \n",
      "count  642006.000000  642006.000000   642006.000000   642006.000000  \n",
      "mean        1.056381       0.652678        4.655358        4.344581  \n",
      "std         2.885973       2.114062        2.960772        3.011290  \n",
      "min        -9.000000      -9.000000       -9.000000       -9.000000  \n",
      "25%         2.000000       1.000000        4.000000        4.000000  \n",
      "50%         2.000000       1.000000        5.000000        5.000000  \n",
      "75%         2.000000       1.000000        7.000000        7.000000  \n",
      "max         2.000000       4.000000        7.000000        7.000000  \n"
     ]
    }
   ],
   "source": [
    "import pandas as pd\n",
    "\n",
    "# 1. Cargar la base\n",
    "df = pd.read_csv(\n",
    "    \"/Users/solgoren/Desktop/UdeSA/Ciencia de datos/TP Final/Base Aprender.csv\",\n",
    "    sep=\";\",       # si no funciona con \",\" probá con \";\"\n",
    "    encoding=\"latin1\"  # si no funciona, probá \"utf-8\"\n",
    ")\n",
    "\n",
    "# 2. Dimensiones de la base\n",
    "print(\"Dimensiones (filas, columnas):\", df.shape)\n",
    "\n",
    "# 3. Primeras filas (para mostrar ejemplos)\n",
    "print(df.head())\n",
    "\n",
    "# 4. Información general: tipos de variables y nulos\n",
    "print(\"\\nInformación de las columnas:\")\n",
    "print(df.info())\n",
    "\n",
    "# 5. Resumen estadístico de las variables numéricas\n",
    "print(\"\\nResumen estadístico (solo numéricas):\")\n",
    "print(df.describe())\n",
    "\n",
    "# 6. Ver algunas variables categóricas (ejemplo con 'provincia' o 'genero')\n",
    "if 'provincia' in df.columns:\n",
    "    print(\"\\nDistribución por provincia:\")\n",
    "    print(df['provincia'].value_counts().head(10))\n",
    "\n",
    "if 'genero' in df.columns:\n",
    "    print(\"\\nDistribución por género:\")\n",
    "    print(df['genero'].value_counts())\n"
   ]
  },
  {
   "cell_type": "code",
   "execution_count": 9,
   "id": "faaa1d72-49d5-42c3-b9a7-965b90ca8c3a",
   "metadata": {},
   "outputs": [
    {
     "name": "stdout",
     "output_type": "stream",
     "text": [
      "  ldesemp mdesemp  Nivel_Ed_Madre  Nivel_Ed_Padre ap01\n",
      "0       4       3               4               1    2\n",
      "1       3       2               3               3    3\n",
      "2               1               7               7    3\n",
      "3       2       2               7               5    2\n",
      "4       3       2               7               7    2\n"
     ]
    }
   ],
   "source": [
    "# Seleccionar variables clave\n",
    "vars_seleccion = ['ldesemp', 'mdesemp', 'Nivel_Ed_Madre','Nivel_Ed_Padre', 'ap01']  # cambia 'niv_madre' según cómo figure en tu base\n",
    "df_sel = df[vars_seleccion]\n",
    "\n",
    "print(df_sel.head())"
   ]
  },
  {
   "cell_type": "markdown",
   "id": "66974773-0115-4ce5-b8a7-23b309e0fd88",
   "metadata": {},
   "source": [
    "## Proceso de limpieza y tratamiento de missing values"
   ]
  },
  {
   "cell_type": "code",
   "execution_count": 10,
   "id": "7c23bc20-1348-4dd6-b992-c66b2bf5c4e5",
   "metadata": {},
   "outputs": [
    {
     "name": "stdout",
     "output_type": "stream",
     "text": [
      "ï»¿ID1            0\n",
      "jurisdiccion      0\n",
      "seccion           0\n",
      "idalumno          0\n",
      "sector            0\n",
      "                 ..\n",
      "sobreedad         0\n",
      "Nivel_Ed_Madre    0\n",
      "Nivel_Ed_Padre    0\n",
      "region            0\n",
      "clima_escolar     0\n",
      "Length: 206, dtype: int64\n",
      "ï»¿ID1           0.0\n",
      "apA36f           0.0\n",
      "apA35i           0.0\n",
      "apA35j           0.0\n",
      "apA35k           0.0\n",
      "                ... \n",
      "ap20d1           0.0\n",
      "ap20d2           0.0\n",
      "ap21             0.0\n",
      "ap22             0.0\n",
      "clima_escolar    0.0\n",
      "Length: 206, dtype: float64\n"
     ]
    }
   ],
   "source": [
    "# Ver cuántos valores faltantes hay por columna\n",
    "print(df.isnull().sum())\n",
    "\n",
    "# Ver el porcentaje de faltantes por variable\n",
    "missing_percent = df.isnull().mean() * 100\n",
    "print(missing_percent.sort_values(ascending=False))"
   ]
  },
  {
   "cell_type": "code",
   "execution_count": 14,
   "id": "d05e7393-f359-4ce4-94d6-77df1264e1ad",
   "metadata": {},
   "outputs": [
    {
     "name": "stdout",
     "output_type": "stream",
     "text": [
      "Nivel_Ed_Madre\n",
      " 7    199577\n",
      " 5    172911\n",
      " 4    104625\n",
      " 2     49773\n",
      " 3     46684\n",
      " 6     41108\n",
      "-9     20490\n",
      " 1      6838\n",
      "Name: count, dtype: int64\n",
      "Nivel_Ed_Padre\n",
      " 5    168824\n",
      " 7    161586\n",
      " 4    125202\n",
      " 2     68680\n",
      " 3     48134\n",
      " 6     36209\n",
      "-9     21917\n",
      " 1     11454\n",
      "Name: count, dtype: int64\n"
     ]
    }
   ],
   "source": [
    "#Identificar esas categorías especiales en las variables de interés\n",
    "\n",
    "print(df['Nivel_Ed_Madre'].value_counts())\n",
    "print(df['Nivel_Ed_Padre'].value_counts())"
   ]
  },
  {
   "cell_type": "code",
   "execution_count": 15,
   "id": "c4a4182b-be3f-40bf-bfda-30a759c6d532",
   "metadata": {},
   "outputs": [],
   "source": [
    "#Reemplazarlos por NaN (para tratarlos como verdaderos missing)\n",
    "\n",
    "import numpy as np\n",
    "\n",
    "# Definir los códigos de missing\n",
    "missing_codes = [-9, -8, -6]\n",
    "\n",
    "# Reemplazar en las variables relevantes\n",
    "df['Nivel_Ed_Madre'] = df['Nivel_Ed_Madre'].replace(missing_codes, np.nan)\n",
    "df['Nivel_Ed_Padre'] = df['Nivel_Ed_Padre'].replace(missing_codes, np.nan)"
   ]
  },
  {
   "cell_type": "code",
   "execution_count": 17,
   "id": "8170eb80-ef38-4f26-a49e-23c0cc8c3162",
   "metadata": {},
   "outputs": [
    {
     "name": "stdout",
     "output_type": "stream",
     "text": [
      "Nivel_Ed_Madre    20490\n",
      "Nivel_Ed_Padre    21917\n",
      "dtype: int64\n"
     ]
    }
   ],
   "source": [
    "print(df[['Nivel_Ed_Madre', 'Nivel_Ed_Padre']].isnull().sum())"
   ]
  },
  {
   "cell_type": "code",
   "execution_count": 19,
   "id": "5b8838de-5f06-4265-9290-1f0d67b32633",
   "metadata": {},
   "outputs": [
    {
     "name": "stdout",
     "output_type": "stream",
     "text": [
      "(619570, 206)\n"
     ]
    }
   ],
   "source": [
    "#Eliminar filas con missing\n",
    "df_clean = df.dropna(subset=['Nivel_Ed_Madre', 'Nivel_Ed_Padre'])\n",
    "print(df_clean.shape)"
   ]
  },
  {
   "cell_type": "code",
   "execution_count": 20,
   "id": "cb9cc8ef-791d-4d45-95ea-0800ec6a9881",
   "metadata": {},
   "outputs": [
    {
     "data": {
      "image/png": "[encoded data removed]",
      "text/plain": [
       "<Figure size 800x600 with 1 Axes>"
      ]
     },
     "metadata": {},
     "output_type": "display_data"
    }
   ],
   "source": [
    "import matplotlib.pyplot as plt\n",
    "\n",
    "missing_percent = df.isnull().mean() * 100\n",
    "missing_percent = missing_percent[missing_percent > 0].sort_values()\n",
    "\n",
    "missing_percent.plot(kind='barh', figsize=(8,6))\n",
    "plt.title(\"Porcentaje de valores faltantes por variable\")\n",
    "plt.xlabel(\"% de faltantes\")\n",
    "plt.show()"
   ]
  },
  {
   "cell_type": "markdown",
   "id": "18217cb0-7f92-410d-8792-179c81c6d588",
   "metadata": {
    "jp-MarkdownHeadingCollapsed": true
   },
   "source": [
    "## HEATMAP"
   ]
  },
  {
   "cell_type": "code",
   "execution_count": 26,
   "id": "09f1cae4-8c2c-4a4a-9c5b-209667d8182b",
   "metadata": {},
   "outputs": [
    {
     "data": {
      "image/png": "[encoded data removed]",
      "text/plain": [
       "<Figure size 600x500 with 2 Axes>"
      ]
     },
     "metadata": {},
     "output_type": "display_data"
    }
   ],
   "source": [
    "import matplotlib.pyplot as plt\n",
    "import numpy as np\n",
    "\n",
    "# Subset de variables clave\n",
    "cols = ['ldesemp', 'mdesemp', 'Nivel_Ed_Madre', 'Nivel_Ed_Padre']\n",
    "df_sub = df_clean[cols].apply(pd.to_numeric, errors='coerce')\n",
    "\n",
    "# Calcular matriz de correlación\n",
    "corr = df_sub.corr()\n",
    "\n",
    "# Graficar heatmap simple con matplotlib\n",
    "fig, ax = plt.subplots(figsize=(6, 5))\n",
    "im = ax.imshow(corr.values, cmap=\"coolwarm\", vmin=-1, vmax=1)\n",
    "\n",
    "# Títulos y etiquetas\n",
    "ax.set_xticks(np.arange(len(corr.columns)))\n",
    "ax.set_yticks(np.arange(len(corr.index)))\n",
    "ax.set_xticklabels(corr.columns, rotation=45, ha=\"right\")\n",
    "ax.set_yticklabels(corr.index)\n",
    "\n",
    "plt.title(\"Correlación entre desempeño y nivel educativo padres\")\n",
    "fig.colorbar(im, ax=ax, fraction=0.046, pad=0.04)\n",
    "\n",
    "plt.tight_layout()\n",
    "plt.show()"
   ]
  }
 ],
 "metadata": {
  "kernelspec": {
   "display_name": "Python [conda env:base] *",
   "language": "python",
   "name": "conda-base-py"
  },
  "language_info": {
   "codemirror_mode": {
    "name": "ipython",
    "version": 3
   },
   "file_extension": ".py",
   "mimetype": "text/x-python",
   "name": "python",
   "nbconvert_exporter": "python",
   "pygments_lexer": "ipython3",
   "version": "3.13.5"
  }
 },
 "nbformat": 4,
 "nbformat_minor": 5
}
